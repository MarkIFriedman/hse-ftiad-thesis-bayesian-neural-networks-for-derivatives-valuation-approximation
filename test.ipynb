{
  "cells": [
    {
      "cell_type": "markdown",
      "metadata": {
        "id": "Rz_GXNIREacQ"
      },
      "source": [
        "[![Open In Colab](https://colab.research.google.com/assets/colab-badge.svg)](https://colab.research.google.com/github/googlecolab/colabtools/blob/master/notebooks/colab-github-demo.ipynb)"
      ]
    },
    {
      "cell_type": "code",
      "execution_count": null,
      "metadata": {
        "id": "LozPNczQEacR",
        "outputId": "e526aa53-a697-40a0-9f9c-5da3da49a821"
      },
      "outputs": [
        {
          "name": "stdout",
          "output_type": "stream",
          "text": [
            "test notebook\n"
          ]
        }
      ],
      "source": [
        "print('test notebook')"
      ]
    },
    {
      "cell_type": "code",
      "source": [
        "print('test_1')"
      ],
      "metadata": {
        "id": "rdOlTwisEb_V",
        "outputId": "c16231e8-8279-4dba-ea34-d4f1c91f2e4b",
        "colab": {
          "base_uri": "https://localhost:8080/"
        }
      },
      "execution_count": 1,
      "outputs": [
        {
          "output_type": "stream",
          "name": "stdout",
          "text": [
            "test_1\n"
          ]
        }
      ]
    },
    {
      "cell_type": "code",
      "source": [
        ""
      ],
      "metadata": {
        "id": "fTqNAYR3Ef4G"
      },
      "execution_count": null,
      "outputs": []
    }
  ],
  "metadata": {
    "interpreter": {
      "hash": "0fed41fca847872315040d543b14fe599d8a310ef78df6534d4211a485262322"
    },
    "kernelspec": {
      "display_name": "Python 3.7.11 ('myenv')",
      "language": "python",
      "name": "python3"
    },
    "language_info": {
      "codemirror_mode": {
        "name": "ipython",
        "version": 3
      },
      "file_extension": ".py",
      "mimetype": "text/x-python",
      "name": "python",
      "nbconvert_exporter": "python",
      "pygments_lexer": "ipython3",
      "version": "3.7.11"
    },
    "orig_nbformat": 4,
    "colab": {
      "name": "test.ipynb",
      "provenance": []
    }
  },
  "nbformat": 4,
  "nbformat_minor": 0
}