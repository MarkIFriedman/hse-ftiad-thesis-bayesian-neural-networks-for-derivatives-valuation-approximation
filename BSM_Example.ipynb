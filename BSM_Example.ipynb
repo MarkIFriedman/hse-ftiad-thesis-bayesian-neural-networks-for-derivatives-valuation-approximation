{
  "cells": [
    {
      "cell_type": "markdown",
      "metadata": {
        "id": "view-in-github",
        "colab_type": "text"
      },
      "source": [
        "<a href=\"https://colab.research.google.com/github/MarkIFriemdan/hse-ftiad-thesis-bayesian-neural-networks-for-derivatives-valuation-approximation/blob/main/BSM_Example.ipynb\" target=\"_parent\"><img src=\"https://colab.research.google.com/assets/colab-badge.svg\" alt=\"Open In Colab\"/></a>"
      ]
    },
    {
      "cell_type": "markdown",
      "metadata": {
        "id": "CoTi8VOPVab0"
      },
      "source": [
        "# Deep Learning Black-Scholes model\n",
        "\n",
        "This is a simple example of learning the valuation function of a plain-vanilla put option in 5 dimensions:\n",
        "* **K** – Strike price (the strike price of the option, also known as the exercise price.)\n",
        "* **S** – Spot price\n",
        "* **T** – Time to maturity (time of option expiration)\n",
        "* **Vol** – Volatility ($\\sigma$)\n",
        "* **r**  – Discount rate (the annualized risk-free interest rate, continuously compounded Also known as the force of interest)\n",
        "* **q** - Dividend rate \n",
        "\n",
        "Due to the obvious scalability of the model, the Strike price is fixed at $1.\n",
        "Using this code, the user should be able to achieve the average accuracy of about 0.1 cent. \n",
        "\n",
        "The network architecture is a fully connected MLP with four hidden layers with 100 ReLU neurons each.\n",
        "\n",
        "The code will detect and run on GPU (if available) or CPU."
      ]
    },
    {
      "cell_type": "code",
      "source": [
        "!wget "
      ],
      "metadata": {
        "id": "u4v6opMfxOTJ"
      },
      "execution_count": null,
      "outputs": []
    },
    {
      "cell_type": "code",
      "execution_count": null,
      "metadata": {
        "id": "kkshUmnvVab6"
      },
      "outputs": [],
      "source": [
        "import numpy as np\n",
        "from scipy.stats import norm\n",
        "import torch\n",
        "import torch.nn.functional as F\n",
        "import matplotlib.pyplot as plt\n",
        "from BlackScholes import *"
      ]
    },
    {
      "cell_type": "markdown",
      "metadata": {
        "id": "d65_j2YuVab7"
      },
      "source": [
        "## Define Black Scholes put model\n",
        "\n",
        "$$d_1 = \\dfrac{\\log(S/K) + (r - q + \\sigma^2 / 2)\\cdot T}{\\sigma\\cdot \\sqrt{T}}$$\n",
        "$$d_2 = d_1 - \\sigma \\cdot \\sqrt{T}$$\n",
        "\n",
        "$${\\frac  {\\partial C}{\\partial T}} = -{\\frac {SN'(d_{1})\\sigma }{2{\\sqrt {T}}}}-rKe^{-r(T)}N(d_{2})$$"
      ]
    },
    {
      "cell_type": "code",
      "execution_count": null,
      "metadata": {
        "id": "YvU2MLFPVab8"
      },
      "outputs": [],
      "source": [
        "def ds(K, S, T, vol, r, q=0):\n",
        "    vol_T = vol * np.sqrt(T)\n",
        "    d1 = (np.log(S/K) + (r - q + 0.5 * vol * vol) * T) / vol_T\n",
        "    d2 = d1 - vol_T\n",
        "    return d1, d2\n",
        "\n",
        "def put(K, S, T, vol, r, q=0):\n",
        "\n",
        "    disc = np.exp(-r * T)\n",
        "    pv_K = K * disc\n",
        "    spot_after_div = S * np.exp(-q * T)\n",
        "\n",
        "    d1, d2 = ds(K, S, T, vol, r, q)\n",
        "    v = norm.cdf(-d2) * pv_K - norm.cdf(-d1) * spot_after_div\n",
        "    return v\n",
        "\n",
        "v_put = np.vectorize(put)\n",
        "\n",
        "def call(K, S, T, vol, r, q=0):\n",
        "    disc = np.exp(-r * T)\n",
        "    pv_K = K * disc\n",
        "    spot_after_div = S * np.exp(-q * T)\n",
        "\n",
        "    d1, d2 = ds(K, S, T, vol, r, q)\n",
        "    c = norm.cdf(d1) * spot_after_div - norm.cdf(d2) * pv_K\n",
        "    return c\n",
        "\n",
        "def greeks(K, S, T, vol, r, q=0):\n",
        "    disc = np.exp(-r * T)\n",
        "    pv_K = K * disc\n",
        "    d1, d2 = ds(K, S, T, vol, r, q)\n",
        "    delta = norm.cdf(d1)\n",
        "    teta = - S * norm.pdf(d1) * vol / (2 * np.sqrt(T)) - r * pv_K * norm.cdf(d2)\n",
        "    vega = S * norm.pdf(d1) * np.sqrt(T)\n",
        "    rho = pv_K * norm.cdf(d2) * T\n",
        "\n",
        "    return np.array([delta, teta, vega, rho])\n",
        "\n",
        "\n",
        "\n",
        "v_call = np.vectorize(call)\n",
        "v_greeks = np.vectorize(greeks)"
      ]
    },
    {
      "cell_type": "code",
      "source": [
        "v_greeks(40, 42, 0.5, 0.2, 0.1, 0)"
      ],
      "metadata": {
        "colab": {
          "base_uri": "https://localhost:8080/"
        },
        "id": "odwusjIFjo1K",
        "outputId": "f4b282b7-798b-4817-88f2-96c0e5840c50"
      },
      "execution_count": null,
      "outputs": [
        {
          "output_type": "execute_result",
          "data": {
            "text/plain": [
              "array([ 0.77913129, -4.55909219,  8.81341506, 13.98204591])"
            ]
          },
          "metadata": {},
          "execution_count": 43
        }
      ]
    },
    {
      "cell_type": "code",
      "source": [
        "class DataGen():\n",
        "    def __init__(self, domain={\n",
        "            \"spot\": (0.5, 2),\n",
        "            \"time\": (0, 3.0),\n",
        "            \"sigma\": (0.1, 0.5),\n",
        "            \"rate\": (-0.01, 0.03)\n",
        "        }):\n",
        "       self.domain = domain\n",
        "        \n",
        "    def generate_train_test(self, train_size = 10 ** 3, test_size=0.2):\n",
        "        import numpy as np\n",
        "        from sklearn.model_selection import train_test_split\n",
        "\n",
        "        if test_size <= 1:\n",
        "            test_size = int(test_size * train_size)\n",
        "        else:\n",
        "            test_size = test_size\n",
        "        domain = self.domain\n",
        "\n",
        "        n_samples = train_size + test_size\n",
        "\n",
        "        x = np.zeros(shape=(len(domain.keys()), n_samples))\n",
        "        for i, r in enumerate(domain.values()):\n",
        "            x[i] = np.random.uniform(r[0], r[1], n_samples)\n",
        "        \n",
        "        y = v_put(K=1, S=x[0], T=x[1], vol=x[2], r=x[3])\n",
        "        dydx = v_greeks(K=1, S=x[0], T=x[1], vol=x[2], r=x[3])\n",
        "        print(type(x), type(y), type(dydx))\n",
        "        x_train, x_test, y_train, y_test, z_train, z_test = train_test_split(\n",
        "        x, y, dydx, test_size=test_size, random_state=42)\n",
        "        \n",
        "        return [x_train, y_train, z_train], [x_test, y_test, z_test]\n",
        "        \n"
      ],
      "metadata": {
        "id": "URhgeCN3c3Mk"
      },
      "execution_count": null,
      "outputs": []
    },
    {
      "cell_type": "code",
      "source": [
        "dg = DataGen()\n",
        "train, test = dg.generate_train_test()"
      ],
      "metadata": {
        "colab": {
          "base_uri": "https://localhost:8080/",
          "height": 703
        },
        "id": "MBNAWQ1cqBsw",
        "outputId": "b547e4bd-ed18-40f0-d0ce-7b5e6168230b"
      },
      "execution_count": null,
      "outputs": [
        {
          "output_type": "error",
          "ename": "ValueError",
          "evalue": "ignored",
          "traceback": [
            "\u001b[0;31m---------------------------------------------------------------------------\u001b[0m",
            "\u001b[0;31mTypeError\u001b[0m                                 Traceback (most recent call last)",
            "\u001b[0;31mTypeError\u001b[0m: only size-1 arrays can be converted to Python scalars",
            "\nThe above exception was the direct cause of the following exception:\n",
            "\u001b[0;31mValueError\u001b[0m                                Traceback (most recent call last)",
            "\u001b[0;32m<ipython-input-38-341989ec4117>\u001b[0m in \u001b[0;36m<module>\u001b[0;34m()\u001b[0m\n\u001b[1;32m      1\u001b[0m \u001b[0mdg\u001b[0m \u001b[0;34m=\u001b[0m \u001b[0mDataGen\u001b[0m\u001b[0;34m(\u001b[0m\u001b[0;34m)\u001b[0m\u001b[0;34m\u001b[0m\u001b[0;34m\u001b[0m\u001b[0m\n\u001b[0;32m----> 2\u001b[0;31m \u001b[0mtrain\u001b[0m\u001b[0;34m,\u001b[0m \u001b[0mtest\u001b[0m \u001b[0;34m=\u001b[0m \u001b[0mdg\u001b[0m\u001b[0;34m.\u001b[0m\u001b[0mgenerate_train_test\u001b[0m\u001b[0;34m(\u001b[0m\u001b[0;34m)\u001b[0m\u001b[0;34m\u001b[0m\u001b[0;34m\u001b[0m\u001b[0m\n\u001b[0m",
            "\u001b[0;32m<ipython-input-37-807306b26e2f>\u001b[0m in \u001b[0;36mgenerate_train_test\u001b[0;34m(self, train_size, test_size)\u001b[0m\n\u001b[1;32m     25\u001b[0m \u001b[0;34m\u001b[0m\u001b[0m\n\u001b[1;32m     26\u001b[0m         \u001b[0my\u001b[0m \u001b[0;34m=\u001b[0m \u001b[0mv_put\u001b[0m\u001b[0;34m(\u001b[0m\u001b[0mK\u001b[0m\u001b[0;34m=\u001b[0m\u001b[0;36m1\u001b[0m\u001b[0;34m,\u001b[0m \u001b[0mS\u001b[0m\u001b[0;34m=\u001b[0m\u001b[0mx\u001b[0m\u001b[0;34m[\u001b[0m\u001b[0;36m0\u001b[0m\u001b[0;34m]\u001b[0m\u001b[0;34m,\u001b[0m \u001b[0mT\u001b[0m\u001b[0;34m=\u001b[0m\u001b[0mx\u001b[0m\u001b[0;34m[\u001b[0m\u001b[0;36m1\u001b[0m\u001b[0;34m]\u001b[0m\u001b[0;34m,\u001b[0m \u001b[0mvol\u001b[0m\u001b[0;34m=\u001b[0m\u001b[0mx\u001b[0m\u001b[0;34m[\u001b[0m\u001b[0;36m2\u001b[0m\u001b[0;34m]\u001b[0m\u001b[0;34m,\u001b[0m \u001b[0mr\u001b[0m\u001b[0;34m=\u001b[0m\u001b[0mx\u001b[0m\u001b[0;34m[\u001b[0m\u001b[0;36m3\u001b[0m\u001b[0;34m]\u001b[0m\u001b[0;34m)\u001b[0m\u001b[0;34m\u001b[0m\u001b[0;34m\u001b[0m\u001b[0m\n\u001b[0;32m---> 27\u001b[0;31m         \u001b[0mdydx\u001b[0m \u001b[0;34m=\u001b[0m \u001b[0mv_greeks\u001b[0m\u001b[0;34m(\u001b[0m\u001b[0mK\u001b[0m\u001b[0;34m=\u001b[0m\u001b[0;36m1\u001b[0m\u001b[0;34m,\u001b[0m \u001b[0mS\u001b[0m\u001b[0;34m=\u001b[0m\u001b[0mx\u001b[0m\u001b[0;34m[\u001b[0m\u001b[0;36m0\u001b[0m\u001b[0;34m]\u001b[0m\u001b[0;34m,\u001b[0m \u001b[0mT\u001b[0m\u001b[0;34m=\u001b[0m\u001b[0mx\u001b[0m\u001b[0;34m[\u001b[0m\u001b[0;36m1\u001b[0m\u001b[0;34m]\u001b[0m\u001b[0;34m,\u001b[0m \u001b[0mvol\u001b[0m\u001b[0;34m=\u001b[0m\u001b[0mx\u001b[0m\u001b[0;34m[\u001b[0m\u001b[0;36m2\u001b[0m\u001b[0;34m]\u001b[0m\u001b[0;34m,\u001b[0m \u001b[0mr\u001b[0m\u001b[0;34m=\u001b[0m\u001b[0mx\u001b[0m\u001b[0;34m[\u001b[0m\u001b[0;36m3\u001b[0m\u001b[0;34m]\u001b[0m\u001b[0;34m)\u001b[0m\u001b[0;34m\u001b[0m\u001b[0;34m\u001b[0m\u001b[0m\n\u001b[0m\u001b[1;32m     28\u001b[0m         \u001b[0mprint\u001b[0m\u001b[0;34m(\u001b[0m\u001b[0mtype\u001b[0m\u001b[0;34m(\u001b[0m\u001b[0mx\u001b[0m\u001b[0;34m)\u001b[0m\u001b[0;34m,\u001b[0m \u001b[0mtype\u001b[0m\u001b[0;34m(\u001b[0m\u001b[0my\u001b[0m\u001b[0;34m)\u001b[0m\u001b[0;34m,\u001b[0m \u001b[0mtype\u001b[0m\u001b[0;34m(\u001b[0m\u001b[0mdydx\u001b[0m\u001b[0;34m)\u001b[0m\u001b[0;34m)\u001b[0m\u001b[0;34m\u001b[0m\u001b[0;34m\u001b[0m\u001b[0m\n\u001b[1;32m     29\u001b[0m         x_train, x_test, y_train, y_test, z_train, z_test = train_test_split(\n",
            "\u001b[0;32m/usr/local/lib/python3.7/dist-packages/numpy/lib/function_base.py\u001b[0m in \u001b[0;36m__call__\u001b[0;34m(self, *args, **kwargs)\u001b[0m\n\u001b[1;32m   2161\u001b[0m             \u001b[0mvargs\u001b[0m\u001b[0;34m.\u001b[0m\u001b[0mextend\u001b[0m\u001b[0;34m(\u001b[0m\u001b[0;34m[\u001b[0m\u001b[0mkwargs\u001b[0m\u001b[0;34m[\u001b[0m\u001b[0m_n\u001b[0m\u001b[0;34m]\u001b[0m \u001b[0;32mfor\u001b[0m \u001b[0m_n\u001b[0m \u001b[0;32min\u001b[0m \u001b[0mnames\u001b[0m\u001b[0;34m]\u001b[0m\u001b[0;34m)\u001b[0m\u001b[0;34m\u001b[0m\u001b[0;34m\u001b[0m\u001b[0m\n\u001b[1;32m   2162\u001b[0m \u001b[0;34m\u001b[0m\u001b[0m\n\u001b[0;32m-> 2163\u001b[0;31m         \u001b[0;32mreturn\u001b[0m \u001b[0mself\u001b[0m\u001b[0;34m.\u001b[0m\u001b[0m_vectorize_call\u001b[0m\u001b[0;34m(\u001b[0m\u001b[0mfunc\u001b[0m\u001b[0;34m=\u001b[0m\u001b[0mfunc\u001b[0m\u001b[0;34m,\u001b[0m \u001b[0margs\u001b[0m\u001b[0;34m=\u001b[0m\u001b[0mvargs\u001b[0m\u001b[0;34m)\u001b[0m\u001b[0;34m\u001b[0m\u001b[0;34m\u001b[0m\u001b[0m\n\u001b[0m\u001b[1;32m   2164\u001b[0m \u001b[0;34m\u001b[0m\u001b[0m\n\u001b[1;32m   2165\u001b[0m     \u001b[0;32mdef\u001b[0m \u001b[0m_get_ufunc_and_otypes\u001b[0m\u001b[0;34m(\u001b[0m\u001b[0mself\u001b[0m\u001b[0;34m,\u001b[0m \u001b[0mfunc\u001b[0m\u001b[0;34m,\u001b[0m \u001b[0margs\u001b[0m\u001b[0;34m)\u001b[0m\u001b[0;34m:\u001b[0m\u001b[0;34m\u001b[0m\u001b[0;34m\u001b[0m\u001b[0m\n",
            "\u001b[0;32m/usr/local/lib/python3.7/dist-packages/numpy/lib/function_base.py\u001b[0m in \u001b[0;36m_vectorize_call\u001b[0;34m(self, func, args)\u001b[0m\n\u001b[1;32m   2247\u001b[0m \u001b[0;34m\u001b[0m\u001b[0m\n\u001b[1;32m   2248\u001b[0m             \u001b[0;32mif\u001b[0m \u001b[0mufunc\u001b[0m\u001b[0;34m.\u001b[0m\u001b[0mnout\u001b[0m \u001b[0;34m==\u001b[0m \u001b[0;36m1\u001b[0m\u001b[0;34m:\u001b[0m\u001b[0;34m\u001b[0m\u001b[0;34m\u001b[0m\u001b[0m\n\u001b[0;32m-> 2249\u001b[0;31m                 \u001b[0mres\u001b[0m \u001b[0;34m=\u001b[0m \u001b[0masanyarray\u001b[0m\u001b[0;34m(\u001b[0m\u001b[0moutputs\u001b[0m\u001b[0;34m,\u001b[0m \u001b[0mdtype\u001b[0m\u001b[0;34m=\u001b[0m\u001b[0motypes\u001b[0m\u001b[0;34m[\u001b[0m\u001b[0;36m0\u001b[0m\u001b[0;34m]\u001b[0m\u001b[0;34m)\u001b[0m\u001b[0;34m\u001b[0m\u001b[0;34m\u001b[0m\u001b[0m\n\u001b[0m\u001b[1;32m   2250\u001b[0m             \u001b[0;32melse\u001b[0m\u001b[0;34m:\u001b[0m\u001b[0;34m\u001b[0m\u001b[0;34m\u001b[0m\u001b[0m\n\u001b[1;32m   2251\u001b[0m                 res = tuple([asanyarray(x, dtype=t)\n",
            "\u001b[0;31mValueError\u001b[0m: setting an array element with a sequence."
          ]
        }
      ]
    },
    {
      "cell_type": "code",
      "source": [
        "call(40, 42, 0.5, 0.2, 0.1, 0)"
      ],
      "metadata": {
        "id": "PhaLl3ZahrQH",
        "colab": {
          "base_uri": "https://localhost:8080/"
        },
        "outputId": "367761b4-07c8-4ded-cfce-202156dcc9b5"
      },
      "execution_count": null,
      "outputs": [
        {
          "output_type": "execute_result",
          "data": {
            "text/plain": [
              "4.759422392871532"
            ]
          },
          "metadata": {},
          "execution_count": 5
        }
      ]
    },
    {
      "cell_type": "markdown",
      "metadata": {
        "id": "33DCMftnVab8"
      },
      "source": [
        "## Generate train, test, and validation data"
      ]
    },
    {
      "cell_type": "code",
      "execution_count": null,
      "metadata": {
        "id": "A2RE3a11Vab9",
        "colab": {
          "base_uri": "https://localhost:8080/"
        },
        "outputId": "734f8b32-c6fb-47d9-a4c5-4265d1b12e46"
      },
      "outputs": [
        {
          "output_type": "execute_result",
          "data": {
            "text/plain": [
              "<torch._C.Generator at 0x7f62814cc650>"
            ]
          },
          "metadata": {},
          "execution_count": 9
        }
      ],
      "source": [
        "# Fix seeds for reproducibility\n",
        "seed = 314\n",
        "np.random.seed(seed)\n",
        "torch.manual_seed(seed)"
      ]
    },
    {
      "cell_type": "code",
      "execution_count": null,
      "metadata": {
        "id": "pRNnE3G1Vab-"
      },
      "outputs": [],
      "source": [
        "# Training domain\n",
        "domain = {\n",
        "    \"spot\": (0.5, 2),\n",
        "    \"time\": (0, 3.0),\n",
        "    \"sigma\": (0.1, 0.5),\n",
        "    \"rate\": (-0.01, 0.03)\n",
        "}"
      ]
    },
    {
      "cell_type": "code",
      "execution_count": null,
      "metadata": {
        "id": "YiOymrJMVab_"
      },
      "outputs": [],
      "source": [
        "n_samples = 100         # Total number of samples\n",
        "pct_test = 0.2              # Portion for test set\n",
        "pct_validation = 0.1        # Portion for validation set\n",
        "\n",
        "samples = np.zeros(shape=(len(domain.keys()), n_samples))\n",
        "for i, r in enumerate(domain.values()):\n",
        "    samples[i] = np.random.uniform(r[0], r[1], n_samples)"
      ]
    },
    {
      "cell_type": "code",
      "execution_count": null,
      "metadata": {
        "id": "RwfonBeWVacA",
        "colab": {
          "base_uri": "https://localhost:8080/",
          "height": 460
        },
        "outputId": "61b63606-da6f-47a8-fb5b-5745968447b3"
      },
      "outputs": [
        {
          "output_type": "error",
          "ename": "ValueError",
          "evalue": "ignored",
          "traceback": [
            "\u001b[0;31m---------------------------------------------------------------------------\u001b[0m",
            "\u001b[0;31mTypeError\u001b[0m                                 Traceback (most recent call last)",
            "\u001b[0;31mTypeError\u001b[0m: only size-1 arrays can be converted to Python scalars",
            "\nThe above exception was the direct cause of the following exception:\n",
            "\u001b[0;31mValueError\u001b[0m                                Traceback (most recent call last)",
            "\u001b[0;32m<ipython-input-48-8193d933fe1a>\u001b[0m in \u001b[0;36m<module>\u001b[0;34m()\u001b[0m\n\u001b[1;32m      3\u001b[0m \u001b[0;31m#### Calculate BSM values\u001b[0m\u001b[0;34m\u001b[0m\u001b[0;34m\u001b[0m\u001b[0;34m\u001b[0m\u001b[0m\n\u001b[1;32m      4\u001b[0m \u001b[0mvalues\u001b[0m \u001b[0;34m=\u001b[0m \u001b[0mv_put\u001b[0m\u001b[0;34m(\u001b[0m\u001b[0mK\u001b[0m\u001b[0;34m=\u001b[0m\u001b[0;36m1\u001b[0m\u001b[0;34m,\u001b[0m \u001b[0mS\u001b[0m\u001b[0;34m=\u001b[0m\u001b[0msamples\u001b[0m\u001b[0;34m[\u001b[0m\u001b[0;36m0\u001b[0m\u001b[0;34m]\u001b[0m\u001b[0;34m,\u001b[0m \u001b[0mT\u001b[0m\u001b[0;34m=\u001b[0m\u001b[0msamples\u001b[0m\u001b[0;34m[\u001b[0m\u001b[0;36m1\u001b[0m\u001b[0;34m]\u001b[0m\u001b[0;34m,\u001b[0m \u001b[0mvol\u001b[0m\u001b[0;34m=\u001b[0m\u001b[0msamples\u001b[0m\u001b[0;34m[\u001b[0m\u001b[0;36m2\u001b[0m\u001b[0;34m]\u001b[0m\u001b[0;34m,\u001b[0m \u001b[0mr\u001b[0m\u001b[0;34m=\u001b[0m\u001b[0msamples\u001b[0m\u001b[0;34m[\u001b[0m\u001b[0;36m3\u001b[0m\u001b[0;34m]\u001b[0m\u001b[0;34m)\u001b[0m\u001b[0;34m\u001b[0m\u001b[0;34m\u001b[0m\u001b[0m\n\u001b[0;32m----> 5\u001b[0;31m \u001b[0mvalues_g\u001b[0m \u001b[0;34m=\u001b[0m \u001b[0mv_greeks\u001b[0m\u001b[0;34m(\u001b[0m\u001b[0mK\u001b[0m\u001b[0;34m=\u001b[0m\u001b[0;36m1\u001b[0m\u001b[0;34m,\u001b[0m \u001b[0mS\u001b[0m\u001b[0;34m=\u001b[0m\u001b[0msamples\u001b[0m\u001b[0;34m[\u001b[0m\u001b[0;36m0\u001b[0m\u001b[0;34m]\u001b[0m\u001b[0;34m,\u001b[0m \u001b[0mT\u001b[0m\u001b[0;34m=\u001b[0m\u001b[0msamples\u001b[0m\u001b[0;34m[\u001b[0m\u001b[0;36m1\u001b[0m\u001b[0;34m]\u001b[0m\u001b[0;34m,\u001b[0m \u001b[0mvol\u001b[0m\u001b[0;34m=\u001b[0m\u001b[0msamples\u001b[0m\u001b[0;34m[\u001b[0m\u001b[0;36m2\u001b[0m\u001b[0;34m]\u001b[0m\u001b[0;34m,\u001b[0m \u001b[0mr\u001b[0m\u001b[0;34m=\u001b[0m\u001b[0msamples\u001b[0m\u001b[0;34m[\u001b[0m\u001b[0;36m3\u001b[0m\u001b[0;34m]\u001b[0m\u001b[0;34m)\u001b[0m\u001b[0;34m\u001b[0m\u001b[0;34m\u001b[0m\u001b[0m\n\u001b[0m",
            "\u001b[0;32m/usr/local/lib/python3.7/dist-packages/numpy/lib/function_base.py\u001b[0m in \u001b[0;36m__call__\u001b[0;34m(self, *args, **kwargs)\u001b[0m\n\u001b[1;32m   2161\u001b[0m             \u001b[0mvargs\u001b[0m\u001b[0;34m.\u001b[0m\u001b[0mextend\u001b[0m\u001b[0;34m(\u001b[0m\u001b[0;34m[\u001b[0m\u001b[0mkwargs\u001b[0m\u001b[0;34m[\u001b[0m\u001b[0m_n\u001b[0m\u001b[0;34m]\u001b[0m \u001b[0;32mfor\u001b[0m \u001b[0m_n\u001b[0m \u001b[0;32min\u001b[0m \u001b[0mnames\u001b[0m\u001b[0;34m]\u001b[0m\u001b[0;34m)\u001b[0m\u001b[0;34m\u001b[0m\u001b[0;34m\u001b[0m\u001b[0m\n\u001b[1;32m   2162\u001b[0m \u001b[0;34m\u001b[0m\u001b[0m\n\u001b[0;32m-> 2163\u001b[0;31m         \u001b[0;32mreturn\u001b[0m \u001b[0mself\u001b[0m\u001b[0;34m.\u001b[0m\u001b[0m_vectorize_call\u001b[0m\u001b[0;34m(\u001b[0m\u001b[0mfunc\u001b[0m\u001b[0;34m=\u001b[0m\u001b[0mfunc\u001b[0m\u001b[0;34m,\u001b[0m \u001b[0margs\u001b[0m\u001b[0;34m=\u001b[0m\u001b[0mvargs\u001b[0m\u001b[0;34m)\u001b[0m\u001b[0;34m\u001b[0m\u001b[0;34m\u001b[0m\u001b[0m\n\u001b[0m\u001b[1;32m   2164\u001b[0m \u001b[0;34m\u001b[0m\u001b[0m\n\u001b[1;32m   2165\u001b[0m     \u001b[0;32mdef\u001b[0m \u001b[0m_get_ufunc_and_otypes\u001b[0m\u001b[0;34m(\u001b[0m\u001b[0mself\u001b[0m\u001b[0;34m,\u001b[0m \u001b[0mfunc\u001b[0m\u001b[0;34m,\u001b[0m \u001b[0margs\u001b[0m\u001b[0;34m)\u001b[0m\u001b[0;34m:\u001b[0m\u001b[0;34m\u001b[0m\u001b[0;34m\u001b[0m\u001b[0m\n",
            "\u001b[0;32m/usr/local/lib/python3.7/dist-packages/numpy/lib/function_base.py\u001b[0m in \u001b[0;36m_vectorize_call\u001b[0;34m(self, func, args)\u001b[0m\n\u001b[1;32m   2247\u001b[0m \u001b[0;34m\u001b[0m\u001b[0m\n\u001b[1;32m   2248\u001b[0m             \u001b[0;32mif\u001b[0m \u001b[0mufunc\u001b[0m\u001b[0;34m.\u001b[0m\u001b[0mnout\u001b[0m \u001b[0;34m==\u001b[0m \u001b[0;36m1\u001b[0m\u001b[0;34m:\u001b[0m\u001b[0;34m\u001b[0m\u001b[0;34m\u001b[0m\u001b[0m\n\u001b[0;32m-> 2249\u001b[0;31m                 \u001b[0mres\u001b[0m \u001b[0;34m=\u001b[0m \u001b[0masanyarray\u001b[0m\u001b[0;34m(\u001b[0m\u001b[0moutputs\u001b[0m\u001b[0;34m,\u001b[0m \u001b[0mdtype\u001b[0m\u001b[0;34m=\u001b[0m\u001b[0motypes\u001b[0m\u001b[0;34m[\u001b[0m\u001b[0;36m0\u001b[0m\u001b[0;34m]\u001b[0m\u001b[0;34m)\u001b[0m\u001b[0;34m\u001b[0m\u001b[0;34m\u001b[0m\u001b[0m\n\u001b[0m\u001b[1;32m   2250\u001b[0m             \u001b[0;32melse\u001b[0m\u001b[0;34m:\u001b[0m\u001b[0;34m\u001b[0m\u001b[0;34m\u001b[0m\u001b[0m\n\u001b[1;32m   2251\u001b[0m                 res = tuple([asanyarray(x, dtype=t)\n",
            "\u001b[0;31mValueError\u001b[0m: setting an array element with a sequence."
          ]
        }
      ],
      "source": [
        "# %%time\n",
        "\n",
        "#### Calculate BSM values\n",
        "values = v_put(K=1, S=samples[0], T=samples[1], vol=samples[2], r=samples[3])\n",
        "values_g = v_greeks(K=1, S=samples[0], T=samples[1], vol=samples[2], r=samples[3])"
      ]
    },
    {
      "cell_type": "code",
      "execution_count": null,
      "metadata": {
        "id": "aH6ZJW3UVacB",
        "colab": {
          "base_uri": "https://localhost:8080/",
          "height": 212
        },
        "outputId": "9c48e397-0d97-464a-f24b-eaaa1a1bce73"
      },
      "outputs": [
        {
          "output_type": "error",
          "ename": "NameError",
          "evalue": "ignored",
          "traceback": [
            "\u001b[0;31m---------------------------------------------------------------------------\u001b[0m",
            "\u001b[0;31mNameError\u001b[0m                                 Traceback (most recent call last)",
            "\u001b[0;32m<ipython-input-15-c2d9b1303d12>\u001b[0m in \u001b[0;36m<module>\u001b[0;34m()\u001b[0m\n\u001b[1;32m      1\u001b[0m \u001b[0msamples_t\u001b[0m \u001b[0;34m=\u001b[0m \u001b[0mtorch\u001b[0m\u001b[0;34m.\u001b[0m\u001b[0mfrom_numpy\u001b[0m\u001b[0;34m(\u001b[0m\u001b[0msamples\u001b[0m\u001b[0;34m.\u001b[0m\u001b[0mT\u001b[0m\u001b[0;34m)\u001b[0m\u001b[0;34m.\u001b[0m\u001b[0mfloat\u001b[0m\u001b[0;34m(\u001b[0m\u001b[0;34m)\u001b[0m\u001b[0;34m\u001b[0m\u001b[0;34m\u001b[0m\u001b[0m\n\u001b[0;32m----> 2\u001b[0;31m \u001b[0mvalues_t\u001b[0m \u001b[0;34m=\u001b[0m \u001b[0mtorch\u001b[0m\u001b[0;34m.\u001b[0m\u001b[0mfrom_numpy\u001b[0m\u001b[0;34m(\u001b[0m\u001b[0mvalues\u001b[0m\u001b[0;34m)\u001b[0m\u001b[0;34m.\u001b[0m\u001b[0mfloat\u001b[0m\u001b[0;34m(\u001b[0m\u001b[0;34m)\u001b[0m\u001b[0;34m.\u001b[0m\u001b[0munsqueeze\u001b[0m\u001b[0;34m(\u001b[0m\u001b[0mdim\u001b[0m\u001b[0;34m=\u001b[0m\u001b[0;36m1\u001b[0m\u001b[0;34m)\u001b[0m\u001b[0;34m\u001b[0m\u001b[0;34m\u001b[0m\u001b[0m\n\u001b[0m\u001b[1;32m      3\u001b[0m \u001b[0mvalues_t2\u001b[0m \u001b[0;34m=\u001b[0m \u001b[0mtorch\u001b[0m\u001b[0;34m.\u001b[0m\u001b[0mfrom_numpy\u001b[0m\u001b[0;34m(\u001b[0m\u001b[0mvalues_2\u001b[0m\u001b[0;34m)\u001b[0m\u001b[0;34m.\u001b[0m\u001b[0mfloat\u001b[0m\u001b[0;34m(\u001b[0m\u001b[0;34m)\u001b[0m\u001b[0;34m.\u001b[0m\u001b[0munsqueeze\u001b[0m\u001b[0;34m(\u001b[0m\u001b[0mdim\u001b[0m\u001b[0;34m=\u001b[0m\u001b[0;36m1\u001b[0m\u001b[0;34m)\u001b[0m\u001b[0;34m\u001b[0m\u001b[0;34m\u001b[0m\u001b[0m\n",
            "\u001b[0;31mNameError\u001b[0m: name 'values' is not defined"
          ]
        }
      ],
      "source": [
        "samples_t = torch.from_numpy(samples.T).float()\n",
        "values_t = torch.from_numpy(values).float().unsqueeze(dim=1)\n",
        "values_t2 = torch.from_numpy(values_2).float().unsqueeze(dim=1)"
      ]
    },
    {
      "cell_type": "markdown",
      "metadata": {
        "id": "R-w4mVP9VacC"
      },
      "source": [
        "## Define DNN architecture and learning function"
      ]
    },
    {
      "cell_type": "code",
      "execution_count": null,
      "metadata": {
        "id": "YT1CA4i3VacD"
      },
      "outputs": [],
      "source": [
        "class Net(torch.nn.Module):\n",
        "    def __init__(self, n_feature, n_hidden, n_layers, n_output):\n",
        "        super(Net, self).__init__()\n",
        "\n",
        "        self.n_hidden = n_hidden\n",
        "        self.n_layers = n_layers\n",
        "\n",
        "        self.linears = torch.nn.ModuleList([torch.nn.Linear(n_feature, n_hidden)])\n",
        "        self.linears.extend([torch.nn.Linear(n_hidden, n_hidden) for i in range(1, n_layers)])\n",
        "        self.linears.append(torch.nn.Linear(n_hidden, n_output))\n",
        "\n",
        "    def forward(self, x):\n",
        "        for lin in self.linears:\n",
        "            x = F.relu(lin(x))       # Activation function for all layers (prices can't be negative)\n",
        "        return x"
      ]
    },
    {
      "cell_type": "code",
      "source": [
        "from sklearn.model_selection import train_test_split\n",
        "\n",
        "x_train, x_test, y_train, y_test = train_test_split(\n",
        "  samples_t, values_t, test_size=pct_test, random_state=42)\n",
        "    \n",
        "x_train, x_validation, y_train, y_validation = train_test_split(\n",
        "  x_train, y_train, test_size=pct_validation*(1-pct_test), random_state=42)\n",
        "    "
      ],
      "metadata": {
        "id": "BOOXlhiXjdGl"
      },
      "execution_count": null,
      "outputs": []
    },
    {
      "cell_type": "code",
      "execution_count": null,
      "metadata": {
        "id": "bOehNWrIVacE"
      },
      "outputs": [],
      "source": [
        "def fit_net(net: Net, n_epochs: int, x: torch.tensor, y: torch.tensor,\n",
        "            pct_test: int, pct_validation: int, device: str='cpu'):\n",
        "\n",
        "    n = y.size()[0]\n",
        "    n_train = x_train.shape[0]\n",
        "    n_test = x_test.shape[0]\n",
        "    \n",
        "    net.to(device)\n",
        "    x_ = x_train.to(device)\n",
        "    y_ = y_train.to(device)\n",
        "\n",
        "    x_test_ = x_test.to(device)\n",
        "    y_test_ = y_test.to(device)\n",
        "\n",
        "    optimizer = torch.optim.Adam(net.parameters(), lr=0.01)\n",
        "    loss_func = torch.nn.MSELoss()\n",
        "   \n",
        "    l = 10**5\n",
        "    best_l = 1e-3\n",
        "    checkpoint = {}\n",
        "    l_train = []\n",
        "    l_test = []\n",
        "\n",
        "    \n",
        "    for e in range(n_epochs):\n",
        "        prediction = net(x_)\n",
        "        loss = loss_func(prediction, y_)\n",
        "        l_train.append(loss.data.cpu().numpy())\n",
        "\n",
        "        prediction_test = net(x_test_)\n",
        "        loss_test = loss_func(prediction_test, y_test_)\n",
        "\n",
        "        optimizer.zero_grad()\n",
        "        loss.backward()\n",
        "        optimizer.step()\n",
        "\n",
        "        l = loss_test.data.cpu().numpy()\n",
        "        l_test.append(l)\n",
        "        if l.item() < best_l:\n",
        "            best_l = l.item()\n",
        "            checkpoint = {\n",
        "                \"n_hidden\": net.n_hidden,\n",
        "                \"n_layers\": net.n_layers,\n",
        "                \"model_state_dict\": net.state_dict(),\n",
        "                \"optimizer_state_dict\": optimizer.state_dict(),\n",
        "            }\n",
        "        if (e + 1) % 100 == 0:\n",
        "            print(f\"\\tEpoch: {e+1}\\tL2 Loss = {loss.data.cpu().numpy()}\")\n",
        "\n",
        "    return best_l, checkpoint, l_train, l_test"
      ]
    },
    {
      "cell_type": "markdown",
      "metadata": {
        "id": "-Ae7LcfaVacF"
      },
      "source": [
        "## Determine device"
      ]
    },
    {
      "cell_type": "code",
      "execution_count": null,
      "metadata": {
        "id": "3qHoSyAaVacF",
        "colab": {
          "base_uri": "https://localhost:8080/"
        },
        "outputId": "c60ffcc4-0cb0-4c96-a503-08d7dd297da5"
      },
      "outputs": [
        {
          "output_type": "stream",
          "name": "stdout",
          "text": [
            "GPU detected. Running on cuda:0\n"
          ]
        }
      ],
      "source": [
        "device = \"cpu\"\n",
        "if torch.cuda.is_available():\n",
        "    device = \"cuda:0\"\n",
        "    print(f\"GPU detected. Running on {device}\")\n",
        "else:\n",
        "    print(\"No GPU detected. Running on CPU\")"
      ]
    },
    {
      "cell_type": "markdown",
      "metadata": {
        "id": "qfyDVCPmVacF"
      },
      "source": [
        "## Define network architecture and train"
      ]
    },
    {
      "cell_type": "code",
      "execution_count": null,
      "metadata": {
        "id": "xjsyADv0VacG",
        "colab": {
          "base_uri": "https://localhost:8080/"
        },
        "outputId": "78005575-c8b2-4396-a4a0-e4ab5e7e1a2a"
      },
      "outputs": [
        {
          "output_type": "stream",
          "name": "stdout",
          "text": [
            "Net(\n",
            "  (linears): ModuleList(\n",
            "    (0): Linear(in_features=5, out_features=100, bias=True)\n",
            "    (1): Linear(in_features=100, out_features=100, bias=True)\n",
            "    (2): Linear(in_features=100, out_features=100, bias=True)\n",
            "    (3): Linear(in_features=100, out_features=100, bias=True)\n",
            "    (4): Linear(in_features=100, out_features=1, bias=True)\n",
            "  )\n",
            ")\n"
          ]
        }
      ],
      "source": [
        "net = Net(n_feature=5, n_hidden=100, n_layers=4, n_output=1)  # define the network\n",
        "print(net)  # net architecture"
      ]
    },
    {
      "cell_type": "code",
      "execution_count": null,
      "metadata": {
        "id": "j9GMm_HKVacG",
        "colab": {
          "base_uri": "https://localhost:8080/"
        },
        "outputId": "8ebe8075-2f53-463c-8749-993ec8b8108e"
      },
      "outputs": [
        {
          "output_type": "stream",
          "name": "stdout",
          "text": [
            "\tEpoch: 100\tL2 Loss = 0.0001027706457534805\n",
            "\tEpoch: 200\tL2 Loss = 6.37382036074996e-05\n",
            "\tEpoch: 300\tL2 Loss = 1.6041500202845782e-05\n",
            "\tEpoch: 400\tL2 Loss = 9.951443644240499e-06\n",
            "\tEpoch: 500\tL2 Loss = 9.052893801708706e-06\n",
            "\tEpoch: 600\tL2 Loss = 9.002421575132757e-05\n",
            "\tEpoch: 700\tL2 Loss = 5.370746748667443e-06\n",
            "\tEpoch: 800\tL2 Loss = 5.723204594687559e-06\n",
            "\tEpoch: 900\tL2 Loss = 3.4659633456612937e-06\n",
            "\tEpoch: 1000\tL2 Loss = 3.190176812495338e-06\n",
            "Best loss =3.188519485775032e-06\n",
            "CPU times: user 31.8 s, sys: 1.15 s, total: 33 s\n",
            "Wall time: 38.7 s\n"
          ]
        }
      ],
      "source": [
        "%%time\n",
        "\n",
        "n_epochs = 1000\n",
        "ls, checkpoint, l_train, l_test = fit_net(net, n_epochs, samples_t, values_t, pct_test, pct_validation, device)\n",
        "print(f\"Best loss ={ls}\")"
      ]
    },
    {
      "cell_type": "code",
      "source": [
        "plt.scatter(range(n_epochs), l_train, c='r')\n",
        "plt.plot(range(n_epochs), l_test)\n",
        "plt.show()"
      ],
      "metadata": {
        "colab": {
          "base_uri": "https://localhost:8080/",
          "height": 265
        },
        "id": "GLpx7kFEgiNs",
        "outputId": "f1944c27-d9b9-4eea-89b5-c61fa4d8bd7c"
      },
      "execution_count": null,
      "outputs": [
        {
          "output_type": "display_data",
          "data": {
            "image/png": "[encoded data removed]",
            "text/plain": [
              "<Figure size 432x288 with 1 Axes>"
            ]
          },
          "metadata": {
            "needs_background": "light"
          }
        }
      ]
    },
    {
      "cell_type": "code",
      "source": [
        "l_train = np.array(l_train)\n",
        "l_test = np.array(l_test)\n",
        "(np.abs(l_train - l_test)).sum()"
      ],
      "metadata": {
        "colab": {
          "base_uri": "https://localhost:8080/"
        },
        "id": "-bxWy0vPgxSz",
        "outputId": "37e2ae7e-d735-4d95-86df-350905581a82"
      },
      "execution_count": null,
      "outputs": [
        {
          "output_type": "execute_result",
          "data": {
            "text/plain": [
              "0.0057644295"
            ]
          },
          "metadata": {},
          "execution_count": 16
        }
      ]
    },
    {
      "cell_type": "markdown",
      "metadata": {
        "id": "NsTLYSFfVacG"
      },
      "source": [
        "## Make copy of network from checkpoint and validate results"
      ]
    },
    {
      "cell_type": "code",
      "execution_count": null,
      "metadata": {
        "id": "bvRlvjWLVacH",
        "colab": {
          "base_uri": "https://localhost:8080/"
        },
        "outputId": "17ff9760-1855-4538-8b73-4391ca11becc"
      },
      "outputs": [
        {
          "output_type": "execute_result",
          "data": {
            "text/plain": [
              "Net(\n",
              "  (linears): ModuleList(\n",
              "    (0): Linear(in_features=5, out_features=100, bias=True)\n",
              "    (1): Linear(in_features=100, out_features=100, bias=True)\n",
              "    (2): Linear(in_features=100, out_features=100, bias=True)\n",
              "    (3): Linear(in_features=100, out_features=100, bias=True)\n",
              "    (4): Linear(in_features=100, out_features=1, bias=True)\n",
              "  )\n",
              ")"
            ]
          },
          "metadata": {},
          "execution_count": 17
        }
      ],
      "source": [
        "model = Net(n_feature=5,\n",
        "            n_hidden=checkpoint[\"n_hidden\"],\n",
        "            n_layers=checkpoint[\"n_layers\"],\n",
        "            n_output=1)\n",
        "model.load_state_dict(checkpoint['model_state_dict'])\n",
        "model.eval()\n",
        "model.to(device)"
      ]
    },
    {
      "cell_type": "code",
      "source": [
        "%%time\n",
        "\n",
        "y_pred = model(samples_t.to(device))"
      ],
      "metadata": {
        "id": "KWzc-mWfqBnp",
        "colab": {
          "base_uri": "https://localhost:8080/"
        },
        "outputId": "f0573d8c-ba2f-4389-9525-0d4801e1750a"
      },
      "execution_count": null,
      "outputs": [
        {
          "output_type": "stream",
          "name": "stdout",
          "text": [
            "CPU times: user 1.71 ms, sys: 2.02 ms, total: 3.73 ms\n",
            "Wall time: 4.64 ms\n"
          ]
        }
      ]
    },
    {
      "cell_type": "code",
      "execution_count": null,
      "metadata": {
        "id": "2NLRpRT4VacH"
      },
      "outputs": [],
      "source": [
        "n = values_t.size()[0]\n",
        "ind_validation = n_train = int(np.round(n * (1 - pct_validation)))\n",
        "samples_validation = samples_t[ind_validation:].to(device)\n",
        "values_validation = values_t[ind_validation:]"
      ]
    },
    {
      "cell_type": "code",
      "execution_count": null,
      "metadata": {
        "id": "6wlJ5XrIVacH"
      },
      "outputs": [],
      "source": [
        "v_nn = model(samples_validation).flatten().data.cpu().numpy()\n",
        "error = v_nn - values_validation.flatten().data.cpu().numpy()\n",
        "mean_err = np.mean(error)\n",
        "std_error = np.std(error)"
      ]
    },
    {
      "cell_type": "code",
      "execution_count": null,
      "metadata": {
        "id": "df-1MUINVacH",
        "colab": {
          "base_uri": "https://localhost:8080/",
          "height": 299
        },
        "outputId": "115c7cbd-de68-4e49-81a1-c890babfcf05"
      },
      "outputs": [
        {
          "output_type": "stream",
          "name": "stdout",
          "text": [
            "Mean error = 0.0003, StDev = 0.0018\n"
          ]
        },
        {
          "output_type": "display_data",
          "data": {
            "image/png": "[encoded data removed]",
            "text/plain": [
              "<Figure size 432x288 with 1 Axes>"
            ]
          },
          "metadata": {
            "needs_background": "light"
          }
        }
      ],
      "source": [
        "plt.hist(error, bins=50)\n",
        "plt.title(\"Error histogram for validation set\")\n",
        "print(f\"Mean error = {mean_err:.4f}, StDev = {std_error:.4f}\")"
      ]
    },
    {
      "cell_type": "code",
      "source": [
        "plt.scatter(range(20, 100), l_train[20:100], color=\"r\")\n",
        "plt.plot(range(20, 100), l_test[20:100], color=\"b\")\n",
        "\n",
        "plt.show()"
      ],
      "metadata": {
        "id": "dArm9Nkmd-55",
        "colab": {
          "base_uri": "https://localhost:8080/",
          "height": 265
        },
        "outputId": "47a6990f-501a-48bb-8f94-f81102185f24"
      },
      "execution_count": null,
      "outputs": [
        {
          "output_type": "display_data",
          "data": {
            "image/png": "[encoded data removed]",
            "text/plain": [
              "<Figure size 432x288 with 1 Axes>"
            ]
          },
          "metadata": {
            "needs_background": "light"
          }
        }
      ]
    },
    {
      "cell_type": "code",
      "source": [
        "all_train = []\n",
        "all_test = []\n",
        "labels = []\n",
        "for nh in [100, 200, 300]:\n",
        "  for nl in [4, 5, 6]:\n",
        "    labels.append(f\"{nl} layers, {nh} neurons\")\n",
        "    net = Net(n_feature=5, n_hidden=nh, n_layers=nl, n_output=1)\n",
        "    n_epochs = 100\n",
        "    ls, checkpoint, l_train, l_test = fit_net(net, n_epochs, samples_t, values_t, pct_test, pct_validation, device)\n",
        "    all_train.append(l_train)\n",
        "    all_test.append(l_test)\n",
        "\n",
        "print(f\"Best loss ={ls}\")"
      ],
      "metadata": {
        "id": "Mj1FUavjZA_h",
        "colab": {
          "base_uri": "https://localhost:8080/"
        },
        "outputId": "8b6e7baa-e845-47dc-fcc1-523f07c00fe9"
      },
      "execution_count": null,
      "outputs": [
        {
          "output_type": "stream",
          "name": "stdout",
          "text": [
            "\tEpoch: 100\tL2 Loss = 0.03801465407013893\n",
            "\tEpoch: 100\tL2 Loss = 0.00041951832827180624\n",
            "\tEpoch: 100\tL2 Loss = 0.0005495559889823198\n",
            "\tEpoch: 100\tL2 Loss = 0.00045168204815126956\n",
            "\tEpoch: 100\tL2 Loss = 0.03801465407013893\n",
            "\tEpoch: 100\tL2 Loss = 0.0007395679713226855\n",
            "\tEpoch: 100\tL2 Loss = 0.03801465407013893\n",
            "\tEpoch: 100\tL2 Loss = 0.0006492187967523932\n",
            "\tEpoch: 100\tL2 Loss = 0.03801465407013893\n",
            "Best loss =0.001\n"
          ]
        }
      ]
    },
    {
      "cell_type": "code",
      "source": [
        "plt.style.use('ggplot')\n",
        "for i in range(len(all_train)):\n",
        "    # plt.scatter(range(20, 100), all_train[i][20:100], alpha=0.2)\n",
        "    plt.plot(range(20, 100), all_test[i][20:100], label=labels[i], alpha=0.9)\n",
        "    plt.legend()\n",
        "plt.show()\n",
        "\n"
      ],
      "metadata": {
        "id": "V4gWodDudE5g",
        "colab": {
          "base_uri": "https://localhost:8080/",
          "height": 267
        },
        "outputId": "96068710-fe1a-4565-9d64-b9836d8ee783"
      },
      "execution_count": null,
      "outputs": [
        {
          "output_type": "display_data",
          "data": {
            "image/png": "[encoded data removed]",
            "text/plain": [
              "<Figure size 432x288 with 1 Axes>"
            ]
          },
          "metadata": {}
        }
      ]
    },
    {
      "cell_type": "code",
      "source": [
        ""
      ],
      "metadata": {
        "id": "9eAvSlXZhBUm"
      },
      "execution_count": null,
      "outputs": []
    }
  ],
  "metadata": {
    "kernelspec": {
      "display_name": "Python 3",
      "language": "python",
      "name": "python3"
    },
    "language_info": {
      "codemirror_mode": {
        "name": "ipython",
        "version": 3
      },
      "file_extension": ".py",
      "mimetype": "text/x-python",
      "name": "python",
      "nbconvert_exporter": "python",
      "pygments_lexer": "ipython3",
      "version": "3.7.0"
    },
    "colab": {
      "name": "BSM_Example.ipynb",
      "provenance": [],
      "collapsed_sections": [],
      "include_colab_link": true
    },
    "accelerator": "GPU"
  },
  "nbformat": 4,
  "nbformat_minor": 0
}